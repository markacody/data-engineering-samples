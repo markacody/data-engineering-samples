{
  "nbformat": 4,
  "nbformat_minor": 0,
  "metadata": {
    "colab": {
      "name": "ml-de-19-DATA-LEAKAGE.ipynb",
      "provenance": [],
      "collapsed_sections": []
    },
    "kernelspec": {
      "name": "python3",
      "display_name": "Python 3"
    }
  },
  "cells": [
    {
      "cell_type": "markdown",
      "metadata": {
        "id": "yvv1Rvjhe4Aj"
      },
      "source": [
        "#Data Engineering: Data Leakage\n",
        "Data leakage occurs when a machine learning algorithm has access to information in training that would not be available for a prediction. Models trained on a leaky dataset are useless at best, and potentially dangerous, in real-world applications.\n",
        "\n",
        "###Signs of Data Leakage\n",
        "Data leakage often results in unrealistically good performance on the test set. This is because the model has already seen some aspect of the data in training.\n",
        "\n",
        "###Causes of Data Leakage\n",
        "* Duplicate values. Duplicate values are a common problem outside of controlled systems. For example, data scraped from the web, such as customer reviews, are prone to duplicate data entry by consumer users.\n",
        "* Leaky predictors. Some data have dependencies with other data that can span the test and training sets. Time is potentially leaky, and time-series data requires special handling. \n",
        "* Leaky pre-processing. The most common cause is pre-processing before splitting the dataset into training and test sets. All information gained from pre-processing is spread across the split. \n",
        "\n",
        "###Preventing Data Leakage\n"
      ]
    },
    {
      "cell_type": "code",
      "source": [
        "from google.colab import drive\n",
        "drive.mount('/content/drive')"
      ],
      "metadata": {
        "colab": {
          "base_uri": "https://localhost:8080/"
        },
        "id": "-MkJGpEsWaMp",
        "outputId": "9df60a63-81d5-4e64-fa73-d6f4a09ff9fc"
      },
      "execution_count": null,
      "outputs": [
        {
          "output_type": "stream",
          "name": "stdout",
          "text": [
            "Mounted at /content/drive\n"
          ]
        }
      ]
    },
    {
      "cell_type": "code",
      "source": [
        "import warnings\n",
        "warnings.filterwarnings('ignore')"
      ],
      "metadata": {
        "id": "3efKrrbkWVAC"
      },
      "execution_count": null,
      "outputs": []
    },
    {
      "cell_type": "code",
      "source": [
        "import numpy as np\n",
        "import pandas as pd"
      ],
      "metadata": {
        "id": "FJEml7aOWVsq"
      },
      "execution_count": null,
      "outputs": []
    },
    {
      "cell_type": "markdown",
      "source": [
        "##Demonstration 1: Purchase Predictions "
      ],
      "metadata": {
        "id": "8p631tm_VZSF"
      }
    },
    {
      "cell_type": "code",
      "metadata": {
        "id": "F3_kydDWeIf2"
      },
      "source": [
        "#Fabricate some purchase data\n",
        "df = {'Purchase':['yes','yes','no','yes','no','yes','yes'],\n",
        "      'QTY':[2,5,17,4,0,3,7],\n",
        "      'Product':['Milk','Sugar','Biscuit','Chocoalte','Coffee','Bread','Egg'],\n",
        "      'Discount':['yes','no','no','yes','no','yes','yes']}"
      ],
      "execution_count": null,
      "outputs": []
    },
    {
      "cell_type": "code",
      "metadata": {
        "id": "8wh1fS9YDWwS"
      },
      "source": [
        "#Convert the dictionary to dataframe\n",
        "df = pd.DataFrame(df)"
      ],
      "execution_count": null,
      "outputs": []
    },
    {
      "cell_type": "code",
      "metadata": {
        "colab": {
          "base_uri": "https://localhost:8080/",
          "height": 269
        },
        "id": "ZCMtT6TgDgU6",
        "outputId": "2aa1d408-7531-4a13-95bc-e04f8e001a3e"
      },
      "source": [
        "df"
      ],
      "execution_count": null,
      "outputs": [
        {
          "output_type": "execute_result",
          "data": {
            "text/html": [
              "\n",
              "  <div id=\"df-0aebb2a4-8d8e-4127-a63f-65d09832a0fa\">\n",
              "    <div class=\"colab-df-container\">\n",
              "      <div>\n",
              "<style scoped>\n",
              "    .dataframe tbody tr th:only-of-type {\n",
              "        vertical-align: middle;\n",
              "    }\n",
              "\n",
              "    .dataframe tbody tr th {\n",
              "        vertical-align: top;\n",
              "    }\n",
              "\n",
              "    .dataframe thead th {\n",
              "        text-align: right;\n",
              "    }\n",
              "</style>\n",
              "<table border=\"1\" class=\"dataframe\">\n",
              "  <thead>\n",
              "    <tr style=\"text-align: right;\">\n",
              "      <th></th>\n",
              "      <th>Purchase</th>\n",
              "      <th>QTY</th>\n",
              "      <th>Product</th>\n",
              "      <th>Discount</th>\n",
              "    </tr>\n",
              "  </thead>\n",
              "  <tbody>\n",
              "    <tr>\n",
              "      <th>0</th>\n",
              "      <td>yes</td>\n",
              "      <td>2</td>\n",
              "      <td>Milk</td>\n",
              "      <td>yes</td>\n",
              "    </tr>\n",
              "    <tr>\n",
              "      <th>1</th>\n",
              "      <td>yes</td>\n",
              "      <td>5</td>\n",
              "      <td>Sugar</td>\n",
              "      <td>no</td>\n",
              "    </tr>\n",
              "    <tr>\n",
              "      <th>2</th>\n",
              "      <td>no</td>\n",
              "      <td>17</td>\n",
              "      <td>Biscuit</td>\n",
              "      <td>no</td>\n",
              "    </tr>\n",
              "    <tr>\n",
              "      <th>3</th>\n",
              "      <td>yes</td>\n",
              "      <td>4</td>\n",
              "      <td>Chocoalte</td>\n",
              "      <td>yes</td>\n",
              "    </tr>\n",
              "    <tr>\n",
              "      <th>4</th>\n",
              "      <td>no</td>\n",
              "      <td>0</td>\n",
              "      <td>Coffee</td>\n",
              "      <td>no</td>\n",
              "    </tr>\n",
              "    <tr>\n",
              "      <th>5</th>\n",
              "      <td>yes</td>\n",
              "      <td>3</td>\n",
              "      <td>Bread</td>\n",
              "      <td>yes</td>\n",
              "    </tr>\n",
              "    <tr>\n",
              "      <th>6</th>\n",
              "      <td>yes</td>\n",
              "      <td>7</td>\n",
              "      <td>Egg</td>\n",
              "      <td>yes</td>\n",
              "    </tr>\n",
              "  </tbody>\n",
              "</table>\n",
              "</div>\n",
              "      <button class=\"colab-df-convert\" onclick=\"convertToInteractive('df-0aebb2a4-8d8e-4127-a63f-65d09832a0fa')\"\n",
              "              title=\"Convert this dataframe to an interactive table.\"\n",
              "              style=\"display:none;\">\n",
              "        \n",
              "  <svg xmlns=\"http://www.w3.org/2000/svg\" height=\"24px\"viewBox=\"0 0 24 24\"\n",
              "       width=\"24px\">\n",
              "    <path d=\"M0 0h24v24H0V0z\" fill=\"none\"/>\n",
              "    <path d=\"M18.56 5.44l.94 2.06.94-2.06 2.06-.94-2.06-.94-.94-2.06-.94 2.06-2.06.94zm-11 1L8.5 8.5l.94-2.06 2.06-.94-2.06-.94L8.5 2.5l-.94 2.06-2.06.94zm10 10l.94 2.06.94-2.06 2.06-.94-2.06-.94-.94-2.06-.94 2.06-2.06.94z\"/><path d=\"M17.41 7.96l-1.37-1.37c-.4-.4-.92-.59-1.43-.59-.52 0-1.04.2-1.43.59L10.3 9.45l-7.72 7.72c-.78.78-.78 2.05 0 2.83L4 21.41c.39.39.9.59 1.41.59.51 0 1.02-.2 1.41-.59l7.78-7.78 2.81-2.81c.8-.78.8-2.07 0-2.86zM5.41 20L4 18.59l7.72-7.72 1.47 1.35L5.41 20z\"/>\n",
              "  </svg>\n",
              "      </button>\n",
              "      \n",
              "  <style>\n",
              "    .colab-df-container {\n",
              "      display:flex;\n",
              "      flex-wrap:wrap;\n",
              "      gap: 12px;\n",
              "    }\n",
              "\n",
              "    .colab-df-convert {\n",
              "      background-color: #E8F0FE;\n",
              "      border: none;\n",
              "      border-radius: 50%;\n",
              "      cursor: pointer;\n",
              "      display: none;\n",
              "      fill: #1967D2;\n",
              "      height: 32px;\n",
              "      padding: 0 0 0 0;\n",
              "      width: 32px;\n",
              "    }\n",
              "\n",
              "    .colab-df-convert:hover {\n",
              "      background-color: #E2EBFA;\n",
              "      box-shadow: 0px 1px 2px rgba(60, 64, 67, 0.3), 0px 1px 3px 1px rgba(60, 64, 67, 0.15);\n",
              "      fill: #174EA6;\n",
              "    }\n",
              "\n",
              "    [theme=dark] .colab-df-convert {\n",
              "      background-color: #3B4455;\n",
              "      fill: #D2E3FC;\n",
              "    }\n",
              "\n",
              "    [theme=dark] .colab-df-convert:hover {\n",
              "      background-color: #434B5C;\n",
              "      box-shadow: 0px 1px 3px 1px rgba(0, 0, 0, 0.15);\n",
              "      filter: drop-shadow(0px 1px 2px rgba(0, 0, 0, 0.3));\n",
              "      fill: #FFFFFF;\n",
              "    }\n",
              "  </style>\n",
              "\n",
              "      <script>\n",
              "        const buttonEl =\n",
              "          document.querySelector('#df-0aebb2a4-8d8e-4127-a63f-65d09832a0fa button.colab-df-convert');\n",
              "        buttonEl.style.display =\n",
              "          google.colab.kernel.accessAllowed ? 'block' : 'none';\n",
              "\n",
              "        async function convertToInteractive(key) {\n",
              "          const element = document.querySelector('#df-0aebb2a4-8d8e-4127-a63f-65d09832a0fa');\n",
              "          const dataTable =\n",
              "            await google.colab.kernel.invokeFunction('convertToInteractive',\n",
              "                                                     [key], {});\n",
              "          if (!dataTable) return;\n",
              "\n",
              "          const docLinkHtml = 'Like what you see? Visit the ' +\n",
              "            '<a target=\"_blank\" href=https://colab.research.google.com/notebooks/data_table.ipynb>data table notebook</a>'\n",
              "            + ' to learn more about interactive tables.';\n",
              "          element.innerHTML = '';\n",
              "          dataTable['output_type'] = 'display_data';\n",
              "          await google.colab.output.renderOutput(dataTable, element);\n",
              "          const docLink = document.createElement('div');\n",
              "          docLink.innerHTML = docLinkHtml;\n",
              "          element.appendChild(docLink);\n",
              "        }\n",
              "      </script>\n",
              "    </div>\n",
              "  </div>\n",
              "  "
            ],
            "text/plain": [
              "  Purchase  QTY    Product Discount\n",
              "0      yes    2       Milk      yes\n",
              "1      yes    5      Sugar       no\n",
              "2       no   17    Biscuit       no\n",
              "3      yes    4  Chocoalte      yes\n",
              "4       no    0     Coffee       no\n",
              "5      yes    3      Bread      yes\n",
              "6      yes    7        Egg      yes"
            ]
          },
          "metadata": {},
          "execution_count": 6
        }
      ]
    },
    {
      "cell_type": "markdown",
      "metadata": {
        "id": "8mOYihKZID7X"
      },
      "source": [
        "Most who got ***Discount*** also ***Purchased*** the product. "
      ]
    },
    {
      "cell_type": "code",
      "source": [
        "#Prior to calculating correlation, convert categories to numeric dummies.\n",
        "from sklearn.preprocessing import LabelEncoder"
      ],
      "metadata": {
        "id": "Hr-fTm5HYblE"
      },
      "execution_count": null,
      "outputs": []
    },
    {
      "cell_type": "code",
      "metadata": {
        "id": "w2XzicrRDhbP"
      },
      "source": [
        "le = LabelEncoder()"
      ],
      "execution_count": null,
      "outputs": []
    },
    {
      "cell_type": "code",
      "source": [
        "purch = le.fit_transform(df['Purchase'])\n",
        "dis = le.fit_transform(df['Discount'])\n",
        "prod=le.fit_transform(df['Product'])\n",
        "df['Purchase']=purch\n",
        "df['Discount']=dis\n",
        "df['Product']=prod"
      ],
      "metadata": {
        "id": "ihXpAk5vYl8o"
      },
      "execution_count": null,
      "outputs": []
    },
    {
      "cell_type": "code",
      "metadata": {
        "colab": {
          "base_uri": "https://localhost:8080/",
          "height": 269
        },
        "id": "KepzQcq7Ekov",
        "outputId": "99513378-20c0-476e-fd7e-bbe86075138e"
      },
      "source": [
        "df"
      ],
      "execution_count": null,
      "outputs": [
        {
          "output_type": "execute_result",
          "data": {
            "text/html": [
              "\n",
              "  <div id=\"df-a2f5f4f0-e2f0-411f-829c-efd014e92f0b\">\n",
              "    <div class=\"colab-df-container\">\n",
              "      <div>\n",
              "<style scoped>\n",
              "    .dataframe tbody tr th:only-of-type {\n",
              "        vertical-align: middle;\n",
              "    }\n",
              "\n",
              "    .dataframe tbody tr th {\n",
              "        vertical-align: top;\n",
              "    }\n",
              "\n",
              "    .dataframe thead th {\n",
              "        text-align: right;\n",
              "    }\n",
              "</style>\n",
              "<table border=\"1\" class=\"dataframe\">\n",
              "  <thead>\n",
              "    <tr style=\"text-align: right;\">\n",
              "      <th></th>\n",
              "      <th>Purchase</th>\n",
              "      <th>QTY</th>\n",
              "      <th>Product</th>\n",
              "      <th>Discount</th>\n",
              "    </tr>\n",
              "  </thead>\n",
              "  <tbody>\n",
              "    <tr>\n",
              "      <th>0</th>\n",
              "      <td>1</td>\n",
              "      <td>2</td>\n",
              "      <td>5</td>\n",
              "      <td>1</td>\n",
              "    </tr>\n",
              "    <tr>\n",
              "      <th>1</th>\n",
              "      <td>1</td>\n",
              "      <td>5</td>\n",
              "      <td>6</td>\n",
              "      <td>0</td>\n",
              "    </tr>\n",
              "    <tr>\n",
              "      <th>2</th>\n",
              "      <td>0</td>\n",
              "      <td>17</td>\n",
              "      <td>0</td>\n",
              "      <td>0</td>\n",
              "    </tr>\n",
              "    <tr>\n",
              "      <th>3</th>\n",
              "      <td>1</td>\n",
              "      <td>4</td>\n",
              "      <td>2</td>\n",
              "      <td>1</td>\n",
              "    </tr>\n",
              "    <tr>\n",
              "      <th>4</th>\n",
              "      <td>0</td>\n",
              "      <td>0</td>\n",
              "      <td>3</td>\n",
              "      <td>0</td>\n",
              "    </tr>\n",
              "    <tr>\n",
              "      <th>5</th>\n",
              "      <td>1</td>\n",
              "      <td>3</td>\n",
              "      <td>1</td>\n",
              "      <td>1</td>\n",
              "    </tr>\n",
              "    <tr>\n",
              "      <th>6</th>\n",
              "      <td>1</td>\n",
              "      <td>7</td>\n",
              "      <td>4</td>\n",
              "      <td>1</td>\n",
              "    </tr>\n",
              "  </tbody>\n",
              "</table>\n",
              "</div>\n",
              "      <button class=\"colab-df-convert\" onclick=\"convertToInteractive('df-a2f5f4f0-e2f0-411f-829c-efd014e92f0b')\"\n",
              "              title=\"Convert this dataframe to an interactive table.\"\n",
              "              style=\"display:none;\">\n",
              "        \n",
              "  <svg xmlns=\"http://www.w3.org/2000/svg\" height=\"24px\"viewBox=\"0 0 24 24\"\n",
              "       width=\"24px\">\n",
              "    <path d=\"M0 0h24v24H0V0z\" fill=\"none\"/>\n",
              "    <path d=\"M18.56 5.44l.94 2.06.94-2.06 2.06-.94-2.06-.94-.94-2.06-.94 2.06-2.06.94zm-11 1L8.5 8.5l.94-2.06 2.06-.94-2.06-.94L8.5 2.5l-.94 2.06-2.06.94zm10 10l.94 2.06.94-2.06 2.06-.94-2.06-.94-.94-2.06-.94 2.06-2.06.94z\"/><path d=\"M17.41 7.96l-1.37-1.37c-.4-.4-.92-.59-1.43-.59-.52 0-1.04.2-1.43.59L10.3 9.45l-7.72 7.72c-.78.78-.78 2.05 0 2.83L4 21.41c.39.39.9.59 1.41.59.51 0 1.02-.2 1.41-.59l7.78-7.78 2.81-2.81c.8-.78.8-2.07 0-2.86zM5.41 20L4 18.59l7.72-7.72 1.47 1.35L5.41 20z\"/>\n",
              "  </svg>\n",
              "      </button>\n",
              "      \n",
              "  <style>\n",
              "    .colab-df-container {\n",
              "      display:flex;\n",
              "      flex-wrap:wrap;\n",
              "      gap: 12px;\n",
              "    }\n",
              "\n",
              "    .colab-df-convert {\n",
              "      background-color: #E8F0FE;\n",
              "      border: none;\n",
              "      border-radius: 50%;\n",
              "      cursor: pointer;\n",
              "      display: none;\n",
              "      fill: #1967D2;\n",
              "      height: 32px;\n",
              "      padding: 0 0 0 0;\n",
              "      width: 32px;\n",
              "    }\n",
              "\n",
              "    .colab-df-convert:hover {\n",
              "      background-color: #E2EBFA;\n",
              "      box-shadow: 0px 1px 2px rgba(60, 64, 67, 0.3), 0px 1px 3px 1px rgba(60, 64, 67, 0.15);\n",
              "      fill: #174EA6;\n",
              "    }\n",
              "\n",
              "    [theme=dark] .colab-df-convert {\n",
              "      background-color: #3B4455;\n",
              "      fill: #D2E3FC;\n",
              "    }\n",
              "\n",
              "    [theme=dark] .colab-df-convert:hover {\n",
              "      background-color: #434B5C;\n",
              "      box-shadow: 0px 1px 3px 1px rgba(0, 0, 0, 0.15);\n",
              "      filter: drop-shadow(0px 1px 2px rgba(0, 0, 0, 0.3));\n",
              "      fill: #FFFFFF;\n",
              "    }\n",
              "  </style>\n",
              "\n",
              "      <script>\n",
              "        const buttonEl =\n",
              "          document.querySelector('#df-a2f5f4f0-e2f0-411f-829c-efd014e92f0b button.colab-df-convert');\n",
              "        buttonEl.style.display =\n",
              "          google.colab.kernel.accessAllowed ? 'block' : 'none';\n",
              "\n",
              "        async function convertToInteractive(key) {\n",
              "          const element = document.querySelector('#df-a2f5f4f0-e2f0-411f-829c-efd014e92f0b');\n",
              "          const dataTable =\n",
              "            await google.colab.kernel.invokeFunction('convertToInteractive',\n",
              "                                                     [key], {});\n",
              "          if (!dataTable) return;\n",
              "\n",
              "          const docLinkHtml = 'Like what you see? Visit the ' +\n",
              "            '<a target=\"_blank\" href=https://colab.research.google.com/notebooks/data_table.ipynb>data table notebook</a>'\n",
              "            + ' to learn more about interactive tables.';\n",
              "          element.innerHTML = '';\n",
              "          dataTable['output_type'] = 'display_data';\n",
              "          await google.colab.output.renderOutput(dataTable, element);\n",
              "          const docLink = document.createElement('div');\n",
              "          docLink.innerHTML = docLinkHtml;\n",
              "          element.appendChild(docLink);\n",
              "        }\n",
              "      </script>\n",
              "    </div>\n",
              "  </div>\n",
              "  "
            ],
            "text/plain": [
              "   Purchase  QTY  Product  Discount\n",
              "0         1    2        5         1\n",
              "1         1    5        6         0\n",
              "2         0   17        0         0\n",
              "3         1    4        2         1\n",
              "4         0    0        3         0\n",
              "5         1    3        1         1\n",
              "6         1    7        4         1"
            ]
          },
          "metadata": {},
          "execution_count": 10
        }
      ]
    },
    {
      "cell_type": "code",
      "metadata": {
        "colab": {
          "base_uri": "https://localhost:8080/",
          "height": 175
        },
        "id": "4muhBPhSGsac",
        "outputId": "9a3daabd-50a3-4eff-e2cb-8cfc0d83fd22"
      },
      "source": [
        "df.corr()"
      ],
      "execution_count": null,
      "outputs": [
        {
          "output_type": "execute_result",
          "data": {
            "text/html": [
              "\n",
              "  <div id=\"df-37cc093c-ac14-47e5-8045-e8e18029e377\">\n",
              "    <div class=\"colab-df-container\">\n",
              "      <div>\n",
              "<style scoped>\n",
              "    .dataframe tbody tr th:only-of-type {\n",
              "        vertical-align: middle;\n",
              "    }\n",
              "\n",
              "    .dataframe tbody tr th {\n",
              "        vertical-align: top;\n",
              "    }\n",
              "\n",
              "    .dataframe thead th {\n",
              "        text-align: right;\n",
              "    }\n",
              "</style>\n",
              "<table border=\"1\" class=\"dataframe\">\n",
              "  <thead>\n",
              "    <tr style=\"text-align: right;\">\n",
              "      <th></th>\n",
              "      <th>Purchase</th>\n",
              "      <th>QTY</th>\n",
              "      <th>Product</th>\n",
              "      <th>Discount</th>\n",
              "    </tr>\n",
              "  </thead>\n",
              "  <tbody>\n",
              "    <tr>\n",
              "      <th>Purchase</th>\n",
              "      <td>1.000000</td>\n",
              "      <td>-0.377135</td>\n",
              "      <td>4.743416e-01</td>\n",
              "      <td>7.302967e-01</td>\n",
              "    </tr>\n",
              "    <tr>\n",
              "      <th>QTY</th>\n",
              "      <td>-0.377135</td>\n",
              "      <td>1.000000</td>\n",
              "      <td>-4.853627e-01</td>\n",
              "      <td>-3.202563e-01</td>\n",
              "    </tr>\n",
              "    <tr>\n",
              "      <th>Product</th>\n",
              "      <td>0.474342</td>\n",
              "      <td>-0.485363</td>\n",
              "      <td>1.000000e+00</td>\n",
              "      <td>-1.602469e-17</td>\n",
              "    </tr>\n",
              "    <tr>\n",
              "      <th>Discount</th>\n",
              "      <td>0.730297</td>\n",
              "      <td>-0.320256</td>\n",
              "      <td>-1.602469e-17</td>\n",
              "      <td>1.000000e+00</td>\n",
              "    </tr>\n",
              "  </tbody>\n",
              "</table>\n",
              "</div>\n",
              "      <button class=\"colab-df-convert\" onclick=\"convertToInteractive('df-37cc093c-ac14-47e5-8045-e8e18029e377')\"\n",
              "              title=\"Convert this dataframe to an interactive table.\"\n",
              "              style=\"display:none;\">\n",
              "        \n",
              "  <svg xmlns=\"http://www.w3.org/2000/svg\" height=\"24px\"viewBox=\"0 0 24 24\"\n",
              "       width=\"24px\">\n",
              "    <path d=\"M0 0h24v24H0V0z\" fill=\"none\"/>\n",
              "    <path d=\"M18.56 5.44l.94 2.06.94-2.06 2.06-.94-2.06-.94-.94-2.06-.94 2.06-2.06.94zm-11 1L8.5 8.5l.94-2.06 2.06-.94-2.06-.94L8.5 2.5l-.94 2.06-2.06.94zm10 10l.94 2.06.94-2.06 2.06-.94-2.06-.94-.94-2.06-.94 2.06-2.06.94z\"/><path d=\"M17.41 7.96l-1.37-1.37c-.4-.4-.92-.59-1.43-.59-.52 0-1.04.2-1.43.59L10.3 9.45l-7.72 7.72c-.78.78-.78 2.05 0 2.83L4 21.41c.39.39.9.59 1.41.59.51 0 1.02-.2 1.41-.59l7.78-7.78 2.81-2.81c.8-.78.8-2.07 0-2.86zM5.41 20L4 18.59l7.72-7.72 1.47 1.35L5.41 20z\"/>\n",
              "  </svg>\n",
              "      </button>\n",
              "      \n",
              "  <style>\n",
              "    .colab-df-container {\n",
              "      display:flex;\n",
              "      flex-wrap:wrap;\n",
              "      gap: 12px;\n",
              "    }\n",
              "\n",
              "    .colab-df-convert {\n",
              "      background-color: #E8F0FE;\n",
              "      border: none;\n",
              "      border-radius: 50%;\n",
              "      cursor: pointer;\n",
              "      display: none;\n",
              "      fill: #1967D2;\n",
              "      height: 32px;\n",
              "      padding: 0 0 0 0;\n",
              "      width: 32px;\n",
              "    }\n",
              "\n",
              "    .colab-df-convert:hover {\n",
              "      background-color: #E2EBFA;\n",
              "      box-shadow: 0px 1px 2px rgba(60, 64, 67, 0.3), 0px 1px 3px 1px rgba(60, 64, 67, 0.15);\n",
              "      fill: #174EA6;\n",
              "    }\n",
              "\n",
              "    [theme=dark] .colab-df-convert {\n",
              "      background-color: #3B4455;\n",
              "      fill: #D2E3FC;\n",
              "    }\n",
              "\n",
              "    [theme=dark] .colab-df-convert:hover {\n",
              "      background-color: #434B5C;\n",
              "      box-shadow: 0px 1px 3px 1px rgba(0, 0, 0, 0.15);\n",
              "      filter: drop-shadow(0px 1px 2px rgba(0, 0, 0, 0.3));\n",
              "      fill: #FFFFFF;\n",
              "    }\n",
              "  </style>\n",
              "\n",
              "      <script>\n",
              "        const buttonEl =\n",
              "          document.querySelector('#df-37cc093c-ac14-47e5-8045-e8e18029e377 button.colab-df-convert');\n",
              "        buttonEl.style.display =\n",
              "          google.colab.kernel.accessAllowed ? 'block' : 'none';\n",
              "\n",
              "        async function convertToInteractive(key) {\n",
              "          const element = document.querySelector('#df-37cc093c-ac14-47e5-8045-e8e18029e377');\n",
              "          const dataTable =\n",
              "            await google.colab.kernel.invokeFunction('convertToInteractive',\n",
              "                                                     [key], {});\n",
              "          if (!dataTable) return;\n",
              "\n",
              "          const docLinkHtml = 'Like what you see? Visit the ' +\n",
              "            '<a target=\"_blank\" href=https://colab.research.google.com/notebooks/data_table.ipynb>data table notebook</a>'\n",
              "            + ' to learn more about interactive tables.';\n",
              "          element.innerHTML = '';\n",
              "          dataTable['output_type'] = 'display_data';\n",
              "          await google.colab.output.renderOutput(dataTable, element);\n",
              "          const docLink = document.createElement('div');\n",
              "          docLink.innerHTML = docLinkHtml;\n",
              "          element.appendChild(docLink);\n",
              "        }\n",
              "      </script>\n",
              "    </div>\n",
              "  </div>\n",
              "  "
            ],
            "text/plain": [
              "          Purchase       QTY       Product      Discount\n",
              "Purchase  1.000000 -0.377135  4.743416e-01  7.302967e-01\n",
              "QTY      -0.377135  1.000000 -4.853627e-01 -3.202563e-01\n",
              "Product   0.474342 -0.485363  1.000000e+00 -1.602469e-17\n",
              "Discount  0.730297 -0.320256 -1.602469e-17  1.000000e+00"
            ]
          },
          "metadata": {},
          "execution_count": 11
        }
      ]
    },
    {
      "cell_type": "markdown",
      "metadata": {
        "id": "h3zav53JH9bZ"
      },
      "source": [
        "The strongest relationship in this small sample is between Purchase and Discount, about 0.7. However, discounts are intermittent based on seasons, special events, customer type, etc. And they have short time spans -- not available all the time."
      ]
    },
    {
      "cell_type": "markdown",
      "metadata": {
        "id": "rlu34FSXfRbT"
      },
      "source": [
        "#Pre-processing activities"
      ]
    },
    {
      "cell_type": "markdown",
      "metadata": {
        "id": "3yiZETuwtdOJ"
      },
      "source": [
        "**Best Practice**\n",
        "* Split data into training and testing sets.\n",
        "* Prepare data on training set.\n",
        "* Fit the model on the training set.\n",
        "* Evaluate model on test/validation set. "
      ]
    },
    {
      "cell_type": "markdown",
      "metadata": {
        "id": "9eZ9iUJfwOOT"
      },
      "source": [
        "##**Approach 1**: The Wrong Way"
      ]
    },
    {
      "cell_type": "markdown",
      "metadata": {
        "id": "byV9-Rcuu5Qy"
      },
      "source": [
        "Use *sklearn's* ***make_classification()*** to create the dataset with 1,000 records and 10 features."
      ]
    },
    {
      "cell_type": "code",
      "source": [
        "from sklearn.datasets import make_classification"
      ],
      "metadata": {
        "id": "k1G92eMHcaA_"
      },
      "execution_count": null,
      "outputs": []
    },
    {
      "cell_type": "code",
      "metadata": {
        "id": "B5qtlIRdHAOZ"
      },
      "source": [
        "# Define a synthetic dataset with make_classification.\n",
        "X, y = make_classification(n_samples=1000, \n",
        "                           n_features=10, \n",
        "                           n_informative=8, \n",
        "                           n_redundant=2, \n",
        "                           random_state=20)"
      ],
      "execution_count": null,
      "outputs": []
    },
    {
      "cell_type": "code",
      "metadata": {
        "colab": {
          "base_uri": "https://localhost:8080/"
        },
        "id": "r6Mt0gzZvXME",
        "outputId": "a02dff4c-e0ee-490c-c7ae-9e80ee41650e"
      },
      "source": [
        "print(X.shape, y.shape)"
      ],
      "execution_count": null,
      "outputs": [
        {
          "output_type": "stream",
          "name": "stdout",
          "text": [
            "(1000, 10) (1000,)\n"
          ]
        }
      ]
    },
    {
      "cell_type": "markdown",
      "metadata": {
        "id": "LtvyMWBawwCJ"
      },
      "source": [
        "Use **MinMaxScaler** to scale our data into the range of **0-1**"
      ]
    },
    {
      "cell_type": "code",
      "source": [
        "from sklearn.preprocessing import MinMaxScaler"
      ],
      "metadata": {
        "id": "pPQBGg7GcsVr"
      },
      "execution_count": null,
      "outputs": []
    },
    {
      "cell_type": "code",
      "metadata": {
        "id": "-BXyRgi7vp-f"
      },
      "source": [
        "# Standardize the data\n",
        "scaler = MinMaxScaler()\n",
        "X = scaler.fit_transform(X)"
      ],
      "execution_count": null,
      "outputs": []
    },
    {
      "cell_type": "code",
      "source": [
        "from sklearn.model_selection import train_test_split"
      ],
      "metadata": {
        "id": "kGfxz4xZczQn"
      },
      "execution_count": null,
      "outputs": []
    },
    {
      "cell_type": "code",
      "metadata": {
        "id": "iTJq3Xt8xbbo"
      },
      "source": [
        "# Split into train and test sets with 80% for traing and 20% for testing\n",
        "X_train, X_test, y_train, y_test = train_test_split(X, y, \n",
        "                                                    test_size=0.2, \n",
        "                                                    random_state=50)"
      ],
      "execution_count": null,
      "outputs": []
    },
    {
      "cell_type": "code",
      "source": [
        "from sklearn.linear_model import LogisticRegression"
      ],
      "metadata": {
        "id": "y7yiDtMJc7by"
      },
      "execution_count": null,
      "outputs": []
    },
    {
      "cell_type": "code",
      "metadata": {
        "id": "imM7YSI5x4Zs"
      },
      "source": [
        "# Fit the model\n",
        "demo01 = LogisticRegression().fit(X_train, y_train)"
      ],
      "execution_count": null,
      "outputs": []
    },
    {
      "cell_type": "code",
      "source": [
        "from sklearn.metrics import accuracy_score"
      ],
      "metadata": {
        "id": "7hdbKZTbdGG3"
      },
      "execution_count": null,
      "outputs": []
    },
    {
      "cell_type": "code",
      "metadata": {
        "colab": {
          "base_uri": "https://localhost:8080/"
        },
        "id": "_Chejjvcx-06",
        "collapsed": true,
        "outputId": "0a493e9e-fab8-4bda-a8ca-61652de7b7cf"
      },
      "source": [
        "# Evaluate predictions on train set\n",
        "y_pred = demo01.predict(X_train)\n",
        "accuracy = accuracy_score(y_train, y_pred)\n",
        "print('Accuracy on training set: %.2f' % (accuracy*100))\n",
        "\n",
        "# Evaluate predictions on test set\n",
        "y_pred = demo01.predict(X_test)\n",
        "accuracy = accuracy_score(y_test, y_pred)\n",
        "print('Accuracy on test set: %.2f' % (accuracy*100))"
      ],
      "execution_count": null,
      "outputs": [
        {
          "output_type": "stream",
          "name": "stdout",
          "text": [
            "Accuracy on training set: 88.38\n",
            "Accuracy on test set: 91.50\n"
          ]
        }
      ]
    },
    {
      "cell_type": "markdown",
      "source": [
        "Better accuracy on test than training is one tell that leakage occured."
      ],
      "metadata": {
        "id": "RXYkbdzxdt98"
      }
    },
    {
      "cell_type": "markdown",
      "metadata": {
        "id": "jd65BT2Gyjuh"
      },
      "source": [
        "##**Approach 2**: The Right Way"
      ]
    },
    {
      "cell_type": "markdown",
      "metadata": {
        "id": "uBgMg1mhyzmJ"
      },
      "source": [
        "Step1: Split the data into training and test sets."
      ]
    },
    {
      "cell_type": "code",
      "metadata": {
        "id": "BRgmqWxs-NqW"
      },
      "source": [
        "X, y = make_classification(n_samples=1000, \n",
        "                           n_features=10, \n",
        "                           n_informative=8, \n",
        "                           n_redundant=2, \n",
        "                           random_state=20)"
      ],
      "execution_count": null,
      "outputs": []
    },
    {
      "cell_type": "code",
      "metadata": {
        "id": "ZAQ-bFDPyQLG"
      },
      "source": [
        "# Split into train and test sets\n",
        "X_train, X_test, y_train, y_test = train_test_split(X, y, \n",
        "                                                    test_size=0.2, \n",
        "                                                    random_state=50)"
      ],
      "execution_count": null,
      "outputs": []
    },
    {
      "cell_type": "markdown",
      "metadata": {
        "id": "2YJXRoCszFhN"
      },
      "source": [
        "Step 2: Apply data preparation to training"
      ]
    },
    {
      "cell_type": "code",
      "metadata": {
        "id": "V6UQTFUlzBYt"
      },
      "source": [
        "#Define the scaler\n",
        "scaler = MinMaxScaler()\n",
        "#Fit on the training data\n",
        "scaler.fit_transform(X_train)\n",
        "#Scale the test x_text data\n",
        "X_test = scaler.transform(X_test)"
      ],
      "execution_count": null,
      "outputs": []
    },
    {
      "cell_type": "markdown",
      "metadata": {
        "id": "v4GiDuMczpR8"
      },
      "source": [
        "###Do you scale the target?\n",
        "* Do not scale **y_test** if you want a real world representation for use in testing or validation. \n",
        "* In most cases, also do not scale **y_train**. It is sometimes subject to data preparations, depending on the dataset and problem statement, but never before splitting."
      ]
    },
    {
      "cell_type": "code",
      "metadata": {
        "id": "9HYHymBhz7tR"
      },
      "source": [
        "#Fit the model\n",
        "demo02 = LogisticRegression().fit(X_train, y_train)"
      ],
      "execution_count": null,
      "outputs": []
    },
    {
      "cell_type": "code",
      "metadata": {
        "colab": {
          "base_uri": "https://localhost:8080/"
        },
        "id": "iuLdER_O1WtY",
        "collapsed": true,
        "outputId": "6f0074b6-a208-4d17-a320-55b96e9627cf"
      },
      "source": [
        "#Evaluate predictions on train\n",
        "y_pred = demo02.predict(X_train)\n",
        "accuracy = accuracy_score(y_train, y_pred)\n",
        "print('Accuracy in training: %.2f' % (accuracy*100))\n",
        "\n",
        "#Evaluate predictions on test\n",
        "y_pred = demo02.predict(X_test)\n",
        "accuracy = accuracy_score(y_test, y_pred)\n",
        "print('Accuracy in test: %.2f' % (accuracy*100))"
      ],
      "execution_count": null,
      "outputs": [
        {
          "output_type": "stream",
          "name": "stdout",
          "text": [
            "Accuracy in training: 88.62\n",
            "Accuracy in test: 92.50\n"
          ]
        }
      ]
    },
    {
      "cell_type": "markdown",
      "metadata": {
        "id": "8R8kQ3f61stb"
      },
      "source": [
        "Does the right way always lead to success? Not always. <br/> In this case, the model is overfitting. Next step: tune the model."
      ]
    },
    {
      "cell_type": "markdown",
      "metadata": {
        "id": "-thdWxJx8XLR"
      },
      "source": [
        "#**Using Cross-Validation**"
      ]
    },
    {
      "cell_type": "markdown",
      "metadata": {
        "id": "jJYtcygO8pcr"
      },
      "source": [
        "K-fold cross-validation is splitting a dataset into **K** non-overlapping groups of rows in order to:\n",
        "* Train the model on all but one group and evaluate it on the last group, called the hold-out fold. \n",
        "* Repeat the process so that each fold is given a chance to be used as the holdout. \n",
        "* Finally, average performance across all evaluations."
      ]
    },
    {
      "cell_type": "markdown",
      "metadata": {
        "id": "V5t1Fx4k9hmi"
      },
      "source": [
        "###**Approach 1**: The Wrong Way"
      ]
    },
    {
      "cell_type": "code",
      "metadata": {
        "id": "du2xvICj-PwR"
      },
      "source": [
        "X, y = make_classification(n_samples=1000, \n",
        "                           n_features=10, \n",
        "                           n_informative=8, \n",
        "                           n_redundant=2, \n",
        "                           random_state=20)"
      ],
      "execution_count": null,
      "outputs": []
    },
    {
      "cell_type": "code",
      "metadata": {
        "id": "W7WyT7hH1WpJ"
      },
      "source": [
        "#Standardize the dataset\n",
        "scaler = MinMaxScaler()\n",
        "X = scaler.fit_transform(X)"
      ],
      "execution_count": null,
      "outputs": []
    },
    {
      "cell_type": "code",
      "source": [
        "from sklearn.model_selection import cross_val_score\n",
        "from sklearn.model_selection import RepeatedStratifiedKFold"
      ],
      "metadata": {
        "id": "rCwgML7Ah_lE"
      },
      "execution_count": null,
      "outputs": []
    },
    {
      "cell_type": "code",
      "metadata": {
        "id": "k9lvqRX39ya8"
      },
      "source": [
        "#Define the evaluation procedure and pass it to cross_val_scores.\n",
        "cv = RepeatedStratifiedKFold(n_splits=10, \n",
        "                             n_repeats=5, \n",
        "                             random_state=50)\n",
        "\n",
        "#Evaluate the models from demos 1 and 2 using cross-validation\n",
        "scores01 = cross_val_score(demo01, X, y, scoring='accuracy', cv=cv, n_jobs=1)\n",
        "scores02 = cross_val_score(demo02, X, y, scoring='accuracy', cv=cv, n_jobs=1)"
      ],
      "execution_count": null,
      "outputs": []
    },
    {
      "cell_type": "code",
      "metadata": {
        "colab": {
          "base_uri": "https://localhost:8080/"
        },
        "id": "ueVshGEw981U",
        "collapsed": true,
        "outputId": "41900aa6-6953-47d5-b559-4971d0366476"
      },
      "source": [
        "#Check performance\n",
        "print('Accuracy: %.2f ' % (np.mean(scores01)*100))\n",
        "print('Accuracy: %.2f ' % (np.mean(scores02)*100))"
      ],
      "execution_count": null,
      "outputs": [
        {
          "output_type": "stream",
          "name": "stdout",
          "text": [
            "Accuracy: 88.76 \n",
            "Accuracy: 88.76 \n"
          ]
        }
      ]
    },
    {
      "cell_type": "markdown",
      "metadata": {
        "id": "dnc_36uYTKBY"
      },
      "source": [
        "###**Approach 2**: The Right Way with Pipeline"
      ]
    },
    {
      "cell_type": "code",
      "source": [
        "from sklearn.pipeline import Pipeline"
      ],
      "metadata": {
        "id": "QqlWTkSii9Da"
      },
      "execution_count": null,
      "outputs": []
    },
    {
      "cell_type": "code",
      "source": [
        "# Define dataset\n",
        "X, y = make_classification(n_samples=1000, \n",
        "                           n_features=20, \n",
        "                           n_informative=15, \n",
        "                           n_redundant=5, \n",
        "                           random_state=7)"
      ],
      "metadata": {
        "id": "zT3P3pSXjBio"
      },
      "execution_count": null,
      "outputs": []
    },
    {
      "cell_type": "code",
      "metadata": {
        "id": "ikS6H6zLSsHw",
        "collapsed": true
      },
      "source": [
        "#Define the pipeline\n",
        "steps = list()\n",
        "steps.append(('scaler', MinMaxScaler()))\n",
        "steps.append(('model', LogisticRegression()))\n",
        "pipeline = Pipeline(steps=steps)"
      ],
      "execution_count": null,
      "outputs": []
    },
    {
      "cell_type": "code",
      "source": [
        "#Define the evaluation procedure\n",
        "cv = RepeatedStratifiedKFold(n_splits=10, n_repeats=3, random_state=1)"
      ],
      "metadata": {
        "id": "J-ixZuiLjAZu"
      },
      "execution_count": null,
      "outputs": []
    },
    {
      "cell_type": "code",
      "source": [
        "#Evaluate the model using cross-validation\n",
        "scores = cross_val_score(pipeline, X, y, scoring='accuracy', cv=cv, n_jobs=-1)"
      ],
      "metadata": {
        "id": "GzWvpIzDjAMc"
      },
      "execution_count": null,
      "outputs": []
    },
    {
      "cell_type": "code",
      "source": [
        "#Check performance\n",
        "print('Accuracy: %.2f' % (np.mean(scores)*100))"
      ],
      "metadata": {
        "colab": {
          "base_uri": "https://localhost:8080/"
        },
        "id": "lYHTeTPojXz5",
        "outputId": "2e8309a9-7a9a-4b07-8530-25a99a688c1d"
      },
      "execution_count": null,
      "outputs": [
        {
          "output_type": "stream",
          "name": "stdout",
          "text": [
            "Accuracy: 85.43\n"
          ]
        }
      ]
    },
    {
      "cell_type": "markdown",
      "metadata": {
        "id": "XWzm8p-nJWE7"
      },
      "source": [
        "The pipeline normalizes the data correctly within the cross-validation folds of the evaluation procedure to avoid data leakage.\n",
        "\n",
        "**Approach 2** with accuracy **85** will outperform Approach 1 in production, even with its higher accuracy of **88**."
      ]
    }
  ]
}